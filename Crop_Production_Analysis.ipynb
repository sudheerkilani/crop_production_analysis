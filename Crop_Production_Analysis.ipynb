{
 "cells": [
  {
   "cell_type": "markdown",
   "id": "5af10b7c",
   "metadata": {},
   "source": [
    "# Problem Statement\n",
    "\n",
    "The Agriculture business domain, as a vital part of the overall supply chain, is\n",
    "expected to highly evolve in the upcoming years via the developments, which are\n",
    "taking place on the side of the Future Internet. This paper presents a novel\n",
    "Business-to-Business collaboration platform from the agri-food sector perspective,\n",
    "which aims to facilitate the collaboration of numerous stakeholders belonging to\n",
    "associated business domains, in an effective and flexible manner.\n",
    "This dataset provides a huge amount of information on crop production in India\n",
    "ranging from several years. Based on the Information the ultimate goal would be to\n",
    "**predict crop production** and find important insights highlighting key indicators and\n",
    "metrics that influence crop production.\n"
   ]
  },
  {
   "cell_type": "code",
   "execution_count": 1,
   "id": "d4ee2de0",
   "metadata": {},
   "outputs": [],
   "source": [
    "import numpy as np\n",
    "import pandas as pd\n",
    "import seaborn as sns\n",
    "import matplotlib.pyplot as plt\n",
    "\n",
    "import warnings\n",
    "warnings.filterwarnings('ignore')\n",
    "\n",
    "pd.set_option('display.max_columns', None)"
   ]
  },
  {
   "cell_type": "code",
   "execution_count": 2,
   "id": "7f88b16a",
   "metadata": {},
   "outputs": [
    {
     "data": {
      "text/html": [
       "<div>\n",
       "<style scoped>\n",
       "    .dataframe tbody tr th:only-of-type {\n",
       "        vertical-align: middle;\n",
       "    }\n",
       "\n",
       "    .dataframe tbody tr th {\n",
       "        vertical-align: top;\n",
       "    }\n",
       "\n",
       "    .dataframe thead th {\n",
       "        text-align: right;\n",
       "    }\n",
       "</style>\n",
       "<table border=\"1\" class=\"dataframe\">\n",
       "  <thead>\n",
       "    <tr style=\"text-align: right;\">\n",
       "      <th></th>\n",
       "      <th>State_Name</th>\n",
       "      <th>District_Name</th>\n",
       "      <th>Crop_Year</th>\n",
       "      <th>Season</th>\n",
       "      <th>Crop</th>\n",
       "      <th>Area</th>\n",
       "      <th>Production</th>\n",
       "    </tr>\n",
       "  </thead>\n",
       "  <tbody>\n",
       "    <tr>\n",
       "      <th>0</th>\n",
       "      <td>Andaman and Nicobar Islands</td>\n",
       "      <td>NICOBARS</td>\n",
       "      <td>2000</td>\n",
       "      <td>Kharif</td>\n",
       "      <td>Arecanut</td>\n",
       "      <td>1254.0</td>\n",
       "      <td>2000.0</td>\n",
       "    </tr>\n",
       "    <tr>\n",
       "      <th>1</th>\n",
       "      <td>Andaman and Nicobar Islands</td>\n",
       "      <td>NICOBARS</td>\n",
       "      <td>2000</td>\n",
       "      <td>Kharif</td>\n",
       "      <td>Other Kharif pulses</td>\n",
       "      <td>2.0</td>\n",
       "      <td>1.0</td>\n",
       "    </tr>\n",
       "    <tr>\n",
       "      <th>2</th>\n",
       "      <td>Andaman and Nicobar Islands</td>\n",
       "      <td>NICOBARS</td>\n",
       "      <td>2000</td>\n",
       "      <td>Kharif</td>\n",
       "      <td>Rice</td>\n",
       "      <td>102.0</td>\n",
       "      <td>321.0</td>\n",
       "    </tr>\n",
       "    <tr>\n",
       "      <th>3</th>\n",
       "      <td>Andaman and Nicobar Islands</td>\n",
       "      <td>NICOBARS</td>\n",
       "      <td>2000</td>\n",
       "      <td>Whole Year</td>\n",
       "      <td>Banana</td>\n",
       "      <td>176.0</td>\n",
       "      <td>641.0</td>\n",
       "    </tr>\n",
       "    <tr>\n",
       "      <th>4</th>\n",
       "      <td>Andaman and Nicobar Islands</td>\n",
       "      <td>NICOBARS</td>\n",
       "      <td>2000</td>\n",
       "      <td>Whole Year</td>\n",
       "      <td>Cashewnut</td>\n",
       "      <td>720.0</td>\n",
       "      <td>165.0</td>\n",
       "    </tr>\n",
       "  </tbody>\n",
       "</table>\n",
       "</div>"
      ],
      "text/plain": [
       "                    State_Name District_Name  Crop_Year       Season  \\\n",
       "0  Andaman and Nicobar Islands      NICOBARS       2000  Kharif        \n",
       "1  Andaman and Nicobar Islands      NICOBARS       2000  Kharif        \n",
       "2  Andaman and Nicobar Islands      NICOBARS       2000  Kharif        \n",
       "3  Andaman and Nicobar Islands      NICOBARS       2000  Whole Year    \n",
       "4  Andaman and Nicobar Islands      NICOBARS       2000  Whole Year    \n",
       "\n",
       "                  Crop    Area  Production  \n",
       "0             Arecanut  1254.0      2000.0  \n",
       "1  Other Kharif pulses     2.0         1.0  \n",
       "2                 Rice   102.0       321.0  \n",
       "3               Banana   176.0       641.0  \n",
       "4            Cashewnut   720.0       165.0  "
      ]
     },
     "execution_count": 2,
     "metadata": {},
     "output_type": "execute_result"
    }
   ],
   "source": [
    "df=pd.read_csv('Crop Production data.csv')\n",
    "df.head()"
   ]
  },
  {
   "cell_type": "code",
   "execution_count": 3,
   "id": "4438bfb7",
   "metadata": {},
   "outputs": [
    {
     "data": {
      "text/plain": [
       "(246091, 7)"
      ]
     },
     "execution_count": 3,
     "metadata": {},
     "output_type": "execute_result"
    }
   ],
   "source": [
    "df.shape"
   ]
  },
  {
   "cell_type": "code",
   "execution_count": 4,
   "id": "68d7724a",
   "metadata": {},
   "outputs": [
    {
     "name": "stdout",
     "output_type": "stream",
     "text": [
      "<class 'pandas.core.frame.DataFrame'>\n",
      "RangeIndex: 246091 entries, 0 to 246090\n",
      "Data columns (total 7 columns):\n",
      " #   Column         Non-Null Count   Dtype  \n",
      "---  ------         --------------   -----  \n",
      " 0   State_Name     246091 non-null  object \n",
      " 1   District_Name  246091 non-null  object \n",
      " 2   Crop_Year      246091 non-null  int64  \n",
      " 3   Season         246091 non-null  object \n",
      " 4   Crop           246091 non-null  object \n",
      " 5   Area           246091 non-null  float64\n",
      " 6   Production     242361 non-null  float64\n",
      "dtypes: float64(2), int64(1), object(4)\n",
      "memory usage: 13.1+ MB\n"
     ]
    }
   ],
   "source": [
    "df.info()"
   ]
  },
  {
   "cell_type": "code",
   "execution_count": 5,
   "id": "6512b21b",
   "metadata": {},
   "outputs": [
    {
     "data": {
      "text/plain": [
       "Index(['State_Name', 'District_Name', 'Crop_Year', 'Season', 'Crop', 'Area',\n",
       "       'Production'],\n",
       "      dtype='object')"
      ]
     },
     "execution_count": 5,
     "metadata": {},
     "output_type": "execute_result"
    }
   ],
   "source": [
    "df.columns"
   ]
  },
  {
   "cell_type": "code",
   "execution_count": 6,
   "id": "b27335a3",
   "metadata": {
    "scrolled": true
   },
   "outputs": [
    {
     "data": {
      "text/plain": [
       "State_Name       0.000000\n",
       "District_Name    0.000000\n",
       "Crop_Year        0.000000\n",
       "Season           0.000000\n",
       "Crop             0.000000\n",
       "Area             0.000000\n",
       "Production       1.515699\n",
       "dtype: float64"
      ]
     },
     "execution_count": 6,
     "metadata": {},
     "output_type": "execute_result"
    }
   ],
   "source": [
    "# Missing values check\n",
    "\n",
    "df.isnull().sum()/len(df)*100"
   ]
  },
  {
   "cell_type": "code",
   "execution_count": 7,
   "id": "45e5a7d8",
   "metadata": {},
   "outputs": [
    {
     "data": {
      "text/plain": [
       "0"
      ]
     },
     "execution_count": 7,
     "metadata": {},
     "output_type": "execute_result"
    }
   ],
   "source": [
    "# duplicates check\n",
    "\n",
    "df.duplicated().sum()"
   ]
  },
  {
   "cell_type": "raw",
   "id": "7dba6843",
   "metadata": {},
   "source": [
    "# -- Inference:\n",
    "\n",
    "1)The dataset has 246091 entries with 7 columns.\n",
    "2)The data is present in int, float and object dtype.\n",
    "3)The dataset has 1 int, 2 float and 4 object types columns.\n",
    "4)Presence of Missing values in target column, so im going to drop those records\n",
    "5)No typo error for column names\n",
    "6)No duplicated records present"
   ]
  },
  {
   "cell_type": "code",
   "execution_count": 8,
   "id": "d9eee409",
   "metadata": {},
   "outputs": [],
   "source": [
    "# dropping null records w.r.t to target column\n",
    "\n",
    "df.dropna(inplace=True)"
   ]
  },
  {
   "cell_type": "code",
   "execution_count": 9,
   "id": "2f613636",
   "metadata": {},
   "outputs": [
    {
     "data": {
      "text/html": [
       "<div>\n",
       "<style scoped>\n",
       "    .dataframe tbody tr th:only-of-type {\n",
       "        vertical-align: middle;\n",
       "    }\n",
       "\n",
       "    .dataframe tbody tr th {\n",
       "        vertical-align: top;\n",
       "    }\n",
       "\n",
       "    .dataframe thead th {\n",
       "        text-align: right;\n",
       "    }\n",
       "</style>\n",
       "<table border=\"1\" class=\"dataframe\">\n",
       "  <thead>\n",
       "    <tr style=\"text-align: right;\">\n",
       "      <th></th>\n",
       "      <th>count</th>\n",
       "      <th>mean</th>\n",
       "      <th>std</th>\n",
       "      <th>min</th>\n",
       "      <th>25%</th>\n",
       "      <th>50%</th>\n",
       "      <th>75%</th>\n",
       "      <th>max</th>\n",
       "    </tr>\n",
       "  </thead>\n",
       "  <tbody>\n",
       "    <tr>\n",
       "      <th>Crop_Year</th>\n",
       "      <td>242361.0</td>\n",
       "      <td>2005.625773</td>\n",
       "      <td>4.958285e+00</td>\n",
       "      <td>1997.0</td>\n",
       "      <td>2002.0</td>\n",
       "      <td>2006.0</td>\n",
       "      <td>2010.0</td>\n",
       "      <td>2.015000e+03</td>\n",
       "    </tr>\n",
       "    <tr>\n",
       "      <th>Area</th>\n",
       "      <td>242361.0</td>\n",
       "      <td>12167.414482</td>\n",
       "      <td>5.085744e+04</td>\n",
       "      <td>0.1</td>\n",
       "      <td>87.0</td>\n",
       "      <td>603.0</td>\n",
       "      <td>4545.0</td>\n",
       "      <td>8.580100e+06</td>\n",
       "    </tr>\n",
       "    <tr>\n",
       "      <th>Production</th>\n",
       "      <td>242361.0</td>\n",
       "      <td>582503.442251</td>\n",
       "      <td>1.706581e+07</td>\n",
       "      <td>0.0</td>\n",
       "      <td>88.0</td>\n",
       "      <td>729.0</td>\n",
       "      <td>7023.0</td>\n",
       "      <td>1.250800e+09</td>\n",
       "    </tr>\n",
       "  </tbody>\n",
       "</table>\n",
       "</div>"
      ],
      "text/plain": [
       "               count           mean           std     min     25%     50%  \\\n",
       "Crop_Year   242361.0    2005.625773  4.958285e+00  1997.0  2002.0  2006.0   \n",
       "Area        242361.0   12167.414482  5.085744e+04     0.1    87.0   603.0   \n",
       "Production  242361.0  582503.442251  1.706581e+07     0.0    88.0   729.0   \n",
       "\n",
       "               75%           max  \n",
       "Crop_Year   2010.0  2.015000e+03  \n",
       "Area        4545.0  8.580100e+06  \n",
       "Production  7023.0  1.250800e+09  "
      ]
     },
     "execution_count": 9,
     "metadata": {},
     "output_type": "execute_result"
    }
   ],
   "source": [
    "df.describe().T"
   ]
  },
  {
   "cell_type": "markdown",
   "id": "5fdbd25c",
   "metadata": {},
   "source": [
    "# EDA"
   ]
  },
  {
   "cell_type": "code",
   "execution_count": 10,
   "id": "1a67dc7f",
   "metadata": {},
   "outputs": [
    {
     "name": "stdout",
     "output_type": "stream",
     "text": [
      "Crop_Year\n",
      "2003    17139\n",
      "2002    16536\n",
      "2007    14269\n",
      "2008    14230\n",
      "2006    13976\n",
      "2004    13858\n",
      "2010    13793\n",
      "2011    13791\n",
      "2009    13767\n",
      "2000    13553\n",
      "2005    13519\n",
      "2013    13475\n",
      "2001    13293\n",
      "2012    13184\n",
      "1999    12441\n",
      "1998    11262\n",
      "2014    10815\n",
      "1997     8899\n",
      "2015      561\n",
      "Name: Crop_Year, dtype: int64\n",
      "_____________________________________________\n",
      "Area\n",
      "1.0         3573\n",
      "2.0         3140\n",
      "100.0       2621\n",
      "3.0         2478\n",
      "4.0         2182\n",
      "            ... \n",
      "25569.0        1\n",
      "19349.0        1\n",
      "90302.0        1\n",
      "39698.0        1\n",
      "279151.0       1\n",
      "Name: Area, Length: 38391, dtype: int64\n",
      "_____________________________________________\n",
      "Production\n",
      "1.000000e+00    4028\n",
      "0.000000e+00    3523\n",
      "1.000000e+02    3521\n",
      "2.000000e+00    2964\n",
      "3.000000e+00    2311\n",
      "                ... \n",
      "2.120000e+08       1\n",
      "1.070000e+00       1\n",
      "2.293410e+05       1\n",
      "1.870600e+04       1\n",
      "5.978990e+05       1\n",
      "Name: Production, Length: 51627, dtype: int64\n",
      "_____________________________________________\n"
     ]
    }
   ],
   "source": [
    "# numerical check\n",
    "\n",
    "for i in df.select_dtypes(np.number).columns:\n",
    "    print(i)\n",
    "    print(df[i].value_counts())\n",
    "    print(\"_____________________________________________\")"
   ]
  },
  {
   "cell_type": "code",
   "execution_count": 11,
   "id": "1ff0803d",
   "metadata": {},
   "outputs": [
    {
     "name": "stdout",
     "output_type": "stream",
     "text": [
      "State_Name\n",
      "Uttar Pradesh                  33189\n",
      "Madhya Pradesh                 22604\n",
      "Karnataka                      21079\n",
      "Bihar                          18874\n",
      "Assam                          14622\n",
      "Odisha                         13524\n",
      "Tamil Nadu                     13266\n",
      "Maharashtra                    12496\n",
      "Rajasthan                      12066\n",
      "Chhattisgarh                   10368\n",
      "West Bengal                     9597\n",
      "Andhra Pradesh                  9561\n",
      "Gujarat                         8365\n",
      "Telangana                       5591\n",
      "Uttarakhand                     4825\n",
      "Haryana                         4540\n",
      "Kerala                          4003\n",
      "Nagaland                        3904\n",
      "Punjab                          3143\n",
      "Meghalaya                       2867\n",
      "Arunachal Pradesh               2545\n",
      "Himachal Pradesh                2456\n",
      "Jammu and Kashmir               1632\n",
      "Tripura                         1412\n",
      "Manipur                         1266\n",
      "Jharkhand                       1266\n",
      "Mizoram                          954\n",
      "Puducherry                       872\n",
      "Sikkim                           714\n",
      "Dadra and Nagar Haveli           263\n",
      "Goa                              207\n",
      "Andaman and Nicobar Islands      201\n",
      "Chandigarh                        89\n",
      "Name: State_Name, dtype: int64\n",
      "_____________________________________________\n",
      "District_Name\n",
      "TUMKUR       931\n",
      "BELGAUM      924\n",
      "BIJAPUR      905\n",
      "HASSAN       895\n",
      "BELLARY      887\n",
      "            ... \n",
      "HYDERABAD      8\n",
      "KHUNTI         6\n",
      "RAMGARH        6\n",
      "NAMSAI         1\n",
      "MUMBAI         1\n",
      "Name: District_Name, Length: 646, dtype: int64\n",
      "_____________________________________________\n",
      "Season\n",
      "Kharif         94283\n",
      "Rabi           66160\n",
      "Whole Year     56127\n",
      "Summer         14811\n",
      "Winter          6050\n",
      "Autumn          4930\n",
      "Name: Season, dtype: int64\n",
      "_____________________________________________\n",
      "Crop\n",
      "Rice                 15082\n",
      "Maize                13787\n",
      "Moong(Green Gram)    10106\n",
      "Urad                  9710\n",
      "Sesamum               8821\n",
      "                     ...  \n",
      "Litchi                   6\n",
      "Coffee                   6\n",
      "Apple                    4\n",
      "Peach                    4\n",
      "Other Dry Fruit          1\n",
      "Name: Crop, Length: 124, dtype: int64\n",
      "_____________________________________________\n"
     ]
    }
   ],
   "source": [
    "# categorical check\n",
    "\n",
    "for i in df.select_dtypes(exclude=np.number).columns:\n",
    "    print(i)\n",
    "    print(df[i].value_counts())\n",
    "    print(\"_____________________________________________\")"
   ]
  },
  {
   "cell_type": "code",
   "execution_count": 12,
   "id": "e728aefc",
   "metadata": {},
   "outputs": [
    {
     "data": {
      "text/plain": [
       "State_Name          33\n",
       "District_Name      646\n",
       "Crop_Year           19\n",
       "Season               6\n",
       "Crop               124\n",
       "Area             38391\n",
       "Production       51627\n",
       "dtype: int64"
      ]
     },
     "execution_count": 12,
     "metadata": {},
     "output_type": "execute_result"
    }
   ],
   "source": [
    "df.nunique()"
   ]
  },
  {
   "cell_type": "code",
   "execution_count": 13,
   "id": "34870c87",
   "metadata": {},
   "outputs": [
    {
     "data": {
      "text/plain": [
       "State_Name       0\n",
       "District_Name    0\n",
       "Crop_Year        0\n",
       "Season           0\n",
       "Crop             0\n",
       "Area             0\n",
       "Production       0\n",
       "dtype: int64"
      ]
     },
     "execution_count": 13,
     "metadata": {},
     "output_type": "execute_result"
    }
   ],
   "source": [
    "df.isnull().sum()"
   ]
  },
  {
   "cell_type": "markdown",
   "id": "374b5e77",
   "metadata": {},
   "source": [
    "# Outlier treatment"
   ]
  },
  {
   "cell_type": "code",
   "execution_count": 14,
   "id": "68acc1a5",
   "metadata": {},
   "outputs": [
    {
     "data": {
      "text/plain": [
       "Crop_Year      0.015877\n",
       "Area          47.769121\n",
       "Production    40.741540\n",
       "dtype: float64"
      ]
     },
     "execution_count": 14,
     "metadata": {},
     "output_type": "execute_result"
    }
   ],
   "source": [
    "df.skew()"
   ]
  },
  {
   "cell_type": "markdown",
   "id": "86b253ee",
   "metadata": {},
   "source": [
    "* Since for numerical columns the skewness!=0 which means data is not normally distributed\n",
    "* Also we need to do outlier treatment"
   ]
  },
  {
   "cell_type": "code",
   "execution_count": 15,
   "id": "f0ebd7b8",
   "metadata": {},
   "outputs": [
    {
     "data": {
      "image/png": "[encoded data removed]",
      "text/plain": [
       "<Figure size 640x480 with 1 Axes>"
      ]
     },
     "metadata": {},
     "output_type": "display_data"
    },
    {
     "data": {
      "image/png": "[encoded data removed]",
      "text/plain": [
       "<Figure size 640x480 with 1 Axes>"
      ]
     },
     "metadata": {},
     "output_type": "display_data"
    },
    {
     "data": {
      "image/png": "[encoded data removed]",
      "text/plain": [
       "<Figure size 640x480 with 1 Axes>"
      ]
     },
     "metadata": {},
     "output_type": "display_data"
    }
   ],
   "source": [
    "for i in df.select_dtypes(include=np.number).columns:\n",
    "    sns.boxplot(x=df[i])\n",
    "    plt.show()"
   ]
  },
  {
   "cell_type": "code",
   "execution_count": 16,
   "id": "cd0cce7d",
   "metadata": {},
   "outputs": [],
   "source": [
    "# capping\n",
    "for i in df.select_dtypes(include=np.number).columns:\n",
    "    q1=df[i].quantile(0.25)\n",
    "    q3=df[i].quantile(0.75)\n",
    "    iqr=q3-q1\n",
    "    ll=q1-1.5*iqr\n",
    "    ul=q3+1.5*iqr\n",
    "    df[i]=df[i].apply(lambda x:ll if x<ll else ul if x>ul else x)"
   ]
  },
  {
   "cell_type": "code",
   "execution_count": 17,
   "id": "5b963246",
   "metadata": {},
   "outputs": [
    {
     "data": {
      "text/plain": [
       "Crop_Year     0.015877\n",
       "Area          1.198802\n",
       "Production    1.190846\n",
       "dtype: float64"
      ]
     },
     "execution_count": 17,
     "metadata": {},
     "output_type": "execute_result"
    }
   ],
   "source": [
    "df.skew()"
   ]
  },
  {
   "cell_type": "code",
   "execution_count": 18,
   "id": "ee685b6f",
   "metadata": {},
   "outputs": [
    {
     "data": {
      "text/plain": [
       "17425.5    17.490438\n",
       "1.0         1.661984\n",
       "0.0         1.453617\n",
       "100.0       1.452791\n",
       "2.0         1.222969\n",
       "             ...    \n",
       "11141.0     0.000413\n",
       "10248.0     0.000413\n",
       "14490.0     0.000413\n",
       "15998.0     0.000413\n",
       "17412.0     0.000413\n",
       "Name: Production, Length: 19498, dtype: float64"
      ]
     },
     "execution_count": 18,
     "metadata": {},
     "output_type": "execute_result"
    }
   ],
   "source": [
    "# My target column is Attrition, so im checking the value_counts\n",
    "\n",
    "df['Production'].value_counts()/len(df)*100"
   ]
  },
  {
   "cell_type": "code",
   "execution_count": 19,
   "id": "bfe296ba",
   "metadata": {},
   "outputs": [
    {
     "data": {
      "text/html": [
       "<div>\n",
       "<style scoped>\n",
       "    .dataframe tbody tr th:only-of-type {\n",
       "        vertical-align: middle;\n",
       "    }\n",
       "\n",
       "    .dataframe tbody tr th {\n",
       "        vertical-align: top;\n",
       "    }\n",
       "\n",
       "    .dataframe thead th {\n",
       "        text-align: right;\n",
       "    }\n",
       "</style>\n",
       "<table border=\"1\" class=\"dataframe\">\n",
       "  <thead>\n",
       "    <tr style=\"text-align: right;\">\n",
       "      <th></th>\n",
       "      <th>State_Name</th>\n",
       "      <th>District_Name</th>\n",
       "      <th>Crop_Year</th>\n",
       "      <th>Season</th>\n",
       "      <th>Crop</th>\n",
       "      <th>Area</th>\n",
       "      <th>Production</th>\n",
       "    </tr>\n",
       "  </thead>\n",
       "  <tbody>\n",
       "    <tr>\n",
       "      <th>0</th>\n",
       "      <td>Andaman and Nicobar Islands</td>\n",
       "      <td>NICOBARS</td>\n",
       "      <td>2000</td>\n",
       "      <td>Kharif</td>\n",
       "      <td>Arecanut</td>\n",
       "      <td>1254.0</td>\n",
       "      <td>2000.0</td>\n",
       "    </tr>\n",
       "    <tr>\n",
       "      <th>1</th>\n",
       "      <td>Andaman and Nicobar Islands</td>\n",
       "      <td>NICOBARS</td>\n",
       "      <td>2000</td>\n",
       "      <td>Kharif</td>\n",
       "      <td>Other Kharif pulses</td>\n",
       "      <td>2.0</td>\n",
       "      <td>1.0</td>\n",
       "    </tr>\n",
       "  </tbody>\n",
       "</table>\n",
       "</div>"
      ],
      "text/plain": [
       "                    State_Name District_Name  Crop_Year       Season  \\\n",
       "0  Andaman and Nicobar Islands      NICOBARS       2000  Kharif        \n",
       "1  Andaman and Nicobar Islands      NICOBARS       2000  Kharif        \n",
       "\n",
       "                  Crop    Area  Production  \n",
       "0             Arecanut  1254.0      2000.0  \n",
       "1  Other Kharif pulses     2.0         1.0  "
      ]
     },
     "execution_count": 19,
     "metadata": {},
     "output_type": "execute_result"
    }
   ],
   "source": [
    "df.head(2)"
   ]
  },
  {
   "cell_type": "code",
   "execution_count": 20,
   "id": "5239db42",
   "metadata": {},
   "outputs": [
    {
     "data": {
      "text/plain": [
       "State_Name          33\n",
       "District_Name      646\n",
       "Crop_Year           19\n",
       "Season               6\n",
       "Crop               124\n",
       "Area             11750\n",
       "Production       19498\n",
       "dtype: int64"
      ]
     },
     "execution_count": 20,
     "metadata": {},
     "output_type": "execute_result"
    }
   ],
   "source": [
    "df.nunique()"
   ]
  },
  {
   "cell_type": "code",
   "execution_count": 21,
   "id": "796a1a56",
   "metadata": {},
   "outputs": [
    {
     "data": {
      "text/plain": [
       "Index(['State_Name', 'District_Name', 'Season', 'Crop'], dtype='object')"
      ]
     },
     "execution_count": 21,
     "metadata": {},
     "output_type": "execute_result"
    }
   ],
   "source": [
    "df.select_dtypes(exclude=np.number).columns"
   ]
  },
  {
   "cell_type": "markdown",
   "id": "5f9bacdf",
   "metadata": {},
   "source": [
    "# Statistical Analysis"
   ]
  },
  {
   "cell_type": "code",
   "execution_count": 22,
   "id": "3ca544a9",
   "metadata": {
    "scrolled": true
   },
   "outputs": [
    {
     "name": "stdout",
     "output_type": "stream",
     "text": [
      "Crop_Year\n",
      "Reject the null hypothesis. There is a significant difference.\n",
      "Area\n",
      "Reject the null hypothesis. There is a significant difference.\n"
     ]
    }
   ],
   "source": [
    "# Numerical columns significantly affecting the target\n",
    "from scipy.stats import kruskal\n",
    "\n",
    "p_val = []\n",
    "for col in df.select_dtypes(include=np.number).columns:\n",
    "    if col != 'Production':  # Exclude the target column itself\n",
    "        print(col)\n",
    "        # Assuming we want to test if numeric columns significantly differ by 'Production' value categories\n",
    "        try:\n",
    "            result = kruskal(df[df['Production'] <= df['Production'].median()][col],\n",
    "                             df[df['Production'] > df['Production'].median()][col])\n",
    "            p_value = result.pvalue\n",
    "            p_val.append((col, round(p_value, 2)))\n",
    "            if p_value < 0.05:\n",
    "                print(\"Reject the null hypothesis. There is a significant difference.\")\n",
    "            else:\n",
    "                print(\"Fail to reject the null hypothesis. No significant difference.\")\n",
    "        except ValueError as e:\n",
    "            print(f\"Error in column {col}: {e}\")"
   ]
  },
  {
   "cell_type": "code",
   "execution_count": 23,
   "id": "b99b0c95",
   "metadata": {
    "scrolled": true
   },
   "outputs": [
    {
     "name": "stdout",
     "output_type": "stream",
     "text": [
      "State_Name\n",
      "Reject the null hypothesis. There is a significant difference.\n",
      "District_Name\n",
      "Reject the null hypothesis. There is a significant difference.\n",
      "Season\n",
      "Reject the null hypothesis. There is a significant difference.\n",
      "Crop\n",
      "Reject the null hypothesis. There is a significant difference.\n"
     ]
    }
   ],
   "source": [
    "# Categorical columns significantly affecting the target\n",
    "\n",
    "from scipy.stats import chi2_contingency\n",
    "\n",
    "p_val_cat = []\n",
    "for col in df.select_dtypes(include=object).columns:\n",
    "    if col != 'Production':  # Exclude the target column itself\n",
    "        print(col)\n",
    "        # Create a contingency table\n",
    "        contingency_table = pd.crosstab(df[col], pd.cut(df['Production'], bins=2, labels=['Low', 'High']))\n",
    "        try:\n",
    "            chi2, p_value, _, _ = chi2_contingency(contingency_table)\n",
    "            p_val_cat.append((col, round(p_value, 2)))\n",
    "            if p_value < 0.05:\n",
    "                print(\"Reject the null hypothesis. There is a significant difference.\")\n",
    "            else:\n",
    "                print(\"Fail to reject the null hypothesis. No significant difference.\")\n",
    "        except ValueError as e:\n",
    "            print(f\"Error in column {col}: {e}\")"
   ]
  },
  {
   "cell_type": "code",
   "execution_count": 24,
   "id": "f8a202e2",
   "metadata": {},
   "outputs": [
    {
     "data": {
      "text/html": [
       "<div>\n",
       "<style scoped>\n",
       "    .dataframe tbody tr th:only-of-type {\n",
       "        vertical-align: middle;\n",
       "    }\n",
       "\n",
       "    .dataframe tbody tr th {\n",
       "        vertical-align: top;\n",
       "    }\n",
       "\n",
       "    .dataframe thead th {\n",
       "        text-align: right;\n",
       "    }\n",
       "</style>\n",
       "<table border=\"1\" class=\"dataframe\">\n",
       "  <thead>\n",
       "    <tr style=\"text-align: right;\">\n",
       "      <th></th>\n",
       "      <th>State_Name</th>\n",
       "      <th>District_Name</th>\n",
       "      <th>Crop_Year</th>\n",
       "      <th>Season</th>\n",
       "      <th>Crop</th>\n",
       "      <th>Area</th>\n",
       "      <th>Production</th>\n",
       "    </tr>\n",
       "  </thead>\n",
       "  <tbody>\n",
       "    <tr>\n",
       "      <th>0</th>\n",
       "      <td>Andaman and Nicobar Islands</td>\n",
       "      <td>NICOBARS</td>\n",
       "      <td>2000</td>\n",
       "      <td>Kharif</td>\n",
       "      <td>Arecanut</td>\n",
       "      <td>1254.0</td>\n",
       "      <td>2000.0</td>\n",
       "    </tr>\n",
       "    <tr>\n",
       "      <th>1</th>\n",
       "      <td>Andaman and Nicobar Islands</td>\n",
       "      <td>NICOBARS</td>\n",
       "      <td>2000</td>\n",
       "      <td>Kharif</td>\n",
       "      <td>Other Kharif pulses</td>\n",
       "      <td>2.0</td>\n",
       "      <td>1.0</td>\n",
       "    </tr>\n",
       "  </tbody>\n",
       "</table>\n",
       "</div>"
      ],
      "text/plain": [
       "                    State_Name District_Name  Crop_Year       Season  \\\n",
       "0  Andaman and Nicobar Islands      NICOBARS       2000  Kharif        \n",
       "1  Andaman and Nicobar Islands      NICOBARS       2000  Kharif        \n",
       "\n",
       "                  Crop    Area  Production  \n",
       "0             Arecanut  1254.0      2000.0  \n",
       "1  Other Kharif pulses     2.0         1.0  "
      ]
     },
     "execution_count": 24,
     "metadata": {},
     "output_type": "execute_result"
    }
   ],
   "source": [
    "df.head(2)"
   ]
  },
  {
   "cell_type": "code",
   "execution_count": 25,
   "id": "336105ea",
   "metadata": {},
   "outputs": [
    {
     "data": {
      "text/plain": [
       "Index(['State_Name', 'District_Name', 'Crop_Year', 'Season', 'Crop', 'Area',\n",
       "       'Production'],\n",
       "      dtype='object')"
      ]
     },
     "execution_count": 25,
     "metadata": {},
     "output_type": "execute_result"
    }
   ],
   "source": [
    "df.columns"
   ]
  },
  {
   "cell_type": "code",
   "execution_count": 26,
   "id": "97cf31e1",
   "metadata": {},
   "outputs": [
    {
     "data": {
      "text/plain": [
       "State_Name        object\n",
       "District_Name     object\n",
       "Crop_Year          int64\n",
       "Season            object\n",
       "Crop              object\n",
       "Area             float64\n",
       "Production       float64\n",
       "dtype: object"
      ]
     },
     "execution_count": 26,
     "metadata": {},
     "output_type": "execute_result"
    }
   ],
   "source": [
    "df.dtypes"
   ]
  },
  {
   "cell_type": "markdown",
   "id": "43c61a67",
   "metadata": {},
   "source": [
    "# Encoding\n",
    "\n",
    "'State_Name', 'District_Name', 'Season', 'Crop'"
   ]
  },
  {
   "cell_type": "code",
   "execution_count": 27,
   "id": "96ca583a",
   "metadata": {},
   "outputs": [
    {
     "data": {
      "text/html": [
       "<div>\n",
       "<style scoped>\n",
       "    .dataframe tbody tr th:only-of-type {\n",
       "        vertical-align: middle;\n",
       "    }\n",
       "\n",
       "    .dataframe tbody tr th {\n",
       "        vertical-align: top;\n",
       "    }\n",
       "\n",
       "    .dataframe thead th {\n",
       "        text-align: right;\n",
       "    }\n",
       "</style>\n",
       "<table border=\"1\" class=\"dataframe\">\n",
       "  <thead>\n",
       "    <tr style=\"text-align: right;\">\n",
       "      <th></th>\n",
       "      <th>State_Name</th>\n",
       "      <th>District_Name</th>\n",
       "      <th>Season</th>\n",
       "      <th>Crop</th>\n",
       "    </tr>\n",
       "  </thead>\n",
       "  <tbody>\n",
       "    <tr>\n",
       "      <th>0</th>\n",
       "      <td>Andaman and Nicobar Islands</td>\n",
       "      <td>NICOBARS</td>\n",
       "      <td>Kharif</td>\n",
       "      <td>Arecanut</td>\n",
       "    </tr>\n",
       "    <tr>\n",
       "      <th>1</th>\n",
       "      <td>Andaman and Nicobar Islands</td>\n",
       "      <td>NICOBARS</td>\n",
       "      <td>Kharif</td>\n",
       "      <td>Other Kharif pulses</td>\n",
       "    </tr>\n",
       "  </tbody>\n",
       "</table>\n",
       "</div>"
      ],
      "text/plain": [
       "                    State_Name District_Name       Season                 Crop\n",
       "0  Andaman and Nicobar Islands      NICOBARS  Kharif                  Arecanut\n",
       "1  Andaman and Nicobar Islands      NICOBARS  Kharif       Other Kharif pulses"
      ]
     },
     "execution_count": 27,
     "metadata": {},
     "output_type": "execute_result"
    }
   ],
   "source": [
    "df.select_dtypes(exclude=np.number).head(2)"
   ]
  },
  {
   "cell_type": "code",
   "execution_count": 28,
   "id": "cfe815c2",
   "metadata": {},
   "outputs": [],
   "source": [
    "from sklearn.preprocessing import LabelEncoder\n",
    "\n",
    "# Initialize LabelEncoder\n",
    "le = LabelEncoder()\n",
    "\n",
    "# Encode categorical variables\n",
    "df['State_Name'] = le.fit_transform(df['State_Name'])\n",
    "df['District_Name'] = le.fit_transform(df['District_Name'])\n",
    "df['Season'] = le.fit_transform(df['Season'])\n",
    "df['Crop'] = le.fit_transform(df['Crop'])"
   ]
  },
  {
   "cell_type": "code",
   "execution_count": 29,
   "id": "9357232f",
   "metadata": {},
   "outputs": [
    {
     "data": {
      "text/html": [
       "<div>\n",
       "<style scoped>\n",
       "    .dataframe tbody tr th:only-of-type {\n",
       "        vertical-align: middle;\n",
       "    }\n",
       "\n",
       "    .dataframe tbody tr th {\n",
       "        vertical-align: top;\n",
       "    }\n",
       "\n",
       "    .dataframe thead th {\n",
       "        text-align: right;\n",
       "    }\n",
       "</style>\n",
       "<table border=\"1\" class=\"dataframe\">\n",
       "  <thead>\n",
       "    <tr style=\"text-align: right;\">\n",
       "      <th></th>\n",
       "      <th>State_Name</th>\n",
       "      <th>District_Name</th>\n",
       "      <th>Crop_Year</th>\n",
       "      <th>Season</th>\n",
       "      <th>Crop</th>\n",
       "      <th>Area</th>\n",
       "      <th>Production</th>\n",
       "    </tr>\n",
       "  </thead>\n",
       "  <tbody>\n",
       "    <tr>\n",
       "      <th>0</th>\n",
       "      <td>0</td>\n",
       "      <td>427</td>\n",
       "      <td>2000</td>\n",
       "      <td>1</td>\n",
       "      <td>2</td>\n",
       "      <td>1254.0</td>\n",
       "      <td>2000.0</td>\n",
       "    </tr>\n",
       "    <tr>\n",
       "      <th>1</th>\n",
       "      <td>0</td>\n",
       "      <td>427</td>\n",
       "      <td>2000</td>\n",
       "      <td>1</td>\n",
       "      <td>74</td>\n",
       "      <td>2.0</td>\n",
       "      <td>1.0</td>\n",
       "    </tr>\n",
       "    <tr>\n",
       "      <th>2</th>\n",
       "      <td>0</td>\n",
       "      <td>427</td>\n",
       "      <td>2000</td>\n",
       "      <td>1</td>\n",
       "      <td>95</td>\n",
       "      <td>102.0</td>\n",
       "      <td>321.0</td>\n",
       "    </tr>\n",
       "    <tr>\n",
       "      <th>3</th>\n",
       "      <td>0</td>\n",
       "      <td>427</td>\n",
       "      <td>2000</td>\n",
       "      <td>4</td>\n",
       "      <td>7</td>\n",
       "      <td>176.0</td>\n",
       "      <td>641.0</td>\n",
       "    </tr>\n",
       "    <tr>\n",
       "      <th>4</th>\n",
       "      <td>0</td>\n",
       "      <td>427</td>\n",
       "      <td>2000</td>\n",
       "      <td>4</td>\n",
       "      <td>22</td>\n",
       "      <td>720.0</td>\n",
       "      <td>165.0</td>\n",
       "    </tr>\n",
       "  </tbody>\n",
       "</table>\n",
       "</div>"
      ],
      "text/plain": [
       "   State_Name  District_Name  Crop_Year  Season  Crop    Area  Production\n",
       "0           0            427       2000       1     2  1254.0      2000.0\n",
       "1           0            427       2000       1    74     2.0         1.0\n",
       "2           0            427       2000       1    95   102.0       321.0\n",
       "3           0            427       2000       4     7   176.0       641.0\n",
       "4           0            427       2000       4    22   720.0       165.0"
      ]
     },
     "execution_count": 29,
     "metadata": {},
     "output_type": "execute_result"
    }
   ],
   "source": [
    "df.head()"
   ]
  },
  {
   "cell_type": "markdown",
   "id": "b0cc69c0",
   "metadata": {},
   "source": [
    "# Scaling"
   ]
  },
  {
   "cell_type": "code",
   "execution_count": 30,
   "id": "08934118",
   "metadata": {
    "scrolled": true
   },
   "outputs": [
    {
     "data": {
      "text/html": [
       "<div>\n",
       "<style scoped>\n",
       "    .dataframe tbody tr th:only-of-type {\n",
       "        vertical-align: middle;\n",
       "    }\n",
       "\n",
       "    .dataframe tbody tr th {\n",
       "        vertical-align: top;\n",
       "    }\n",
       "\n",
       "    .dataframe thead th {\n",
       "        text-align: right;\n",
       "    }\n",
       "</style>\n",
       "<table border=\"1\" class=\"dataframe\">\n",
       "  <thead>\n",
       "    <tr style=\"text-align: right;\">\n",
       "      <th></th>\n",
       "      <th>State_Name</th>\n",
       "      <th>District_Name</th>\n",
       "      <th>Crop_Year</th>\n",
       "      <th>Season</th>\n",
       "      <th>Crop</th>\n",
       "      <th>Area</th>\n",
       "      <th>Production</th>\n",
       "    </tr>\n",
       "  </thead>\n",
       "  <tbody>\n",
       "    <tr>\n",
       "      <th>0</th>\n",
       "      <td>-1.7503</td>\n",
       "      <td>0.618251</td>\n",
       "      <td>-1.134623</td>\n",
       "      <td>-0.909387</td>\n",
       "      <td>-1.952325</td>\n",
       "      <td>-0.418302</td>\n",
       "      <td>-0.396945</td>\n",
       "    </tr>\n",
       "    <tr>\n",
       "      <th>1</th>\n",
       "      <td>-1.7503</td>\n",
       "      <td>0.618251</td>\n",
       "      <td>-1.134623</td>\n",
       "      <td>-0.909387</td>\n",
       "      <td>0.161627</td>\n",
       "      <td>-0.716060</td>\n",
       "      <td>-0.697377</td>\n",
       "    </tr>\n",
       "    <tr>\n",
       "      <th>2</th>\n",
       "      <td>-1.7503</td>\n",
       "      <td>0.618251</td>\n",
       "      <td>-1.134623</td>\n",
       "      <td>-0.909387</td>\n",
       "      <td>0.778196</td>\n",
       "      <td>-0.692278</td>\n",
       "      <td>-0.649284</td>\n",
       "    </tr>\n",
       "    <tr>\n",
       "      <th>3</th>\n",
       "      <td>-1.7503</td>\n",
       "      <td>0.618251</td>\n",
       "      <td>-1.134623</td>\n",
       "      <td>1.423439</td>\n",
       "      <td>-1.805523</td>\n",
       "      <td>-0.674679</td>\n",
       "      <td>-0.601191</td>\n",
       "    </tr>\n",
       "    <tr>\n",
       "      <th>4</th>\n",
       "      <td>-1.7503</td>\n",
       "      <td>0.618251</td>\n",
       "      <td>-1.134623</td>\n",
       "      <td>1.423439</td>\n",
       "      <td>-1.365116</td>\n",
       "      <td>-0.545301</td>\n",
       "      <td>-0.672729</td>\n",
       "    </tr>\n",
       "  </tbody>\n",
       "</table>\n",
       "</div>"
      ],
      "text/plain": [
       "   State_Name  District_Name  Crop_Year    Season      Crop      Area  \\\n",
       "0     -1.7503       0.618251  -1.134623 -0.909387 -1.952325 -0.418302   \n",
       "1     -1.7503       0.618251  -1.134623 -0.909387  0.161627 -0.716060   \n",
       "2     -1.7503       0.618251  -1.134623 -0.909387  0.778196 -0.692278   \n",
       "3     -1.7503       0.618251  -1.134623  1.423439 -1.805523 -0.674679   \n",
       "4     -1.7503       0.618251  -1.134623  1.423439 -1.365116 -0.545301   \n",
       "\n",
       "   Production  \n",
       "0   -0.396945  \n",
       "1   -0.697377  \n",
       "2   -0.649284  \n",
       "3   -0.601191  \n",
       "4   -0.672729  "
      ]
     },
     "execution_count": 30,
     "metadata": {},
     "output_type": "execute_result"
    }
   ],
   "source": [
    "from sklearn.preprocessing import StandardScaler,RobustScaler, MinMaxScaler\n",
    "\n",
    "for i in df.columns:\n",
    "    scaler = StandardScaler()\n",
    "    df[i] = scaler.fit_transform(df[[i]])\n",
    "\n",
    "df_scale = pd.DataFrame(df, columns=df.columns)\n",
    "df_scale.head()"
   ]
  },
  {
   "cell_type": "code",
   "execution_count": 31,
   "id": "1faab26c",
   "metadata": {},
   "outputs": [
    {
     "data": {
      "text/plain": [
       "Index(['State_Name', 'District_Name', 'Crop_Year', 'Season', 'Crop', 'Area',\n",
       "       'Production'],\n",
       "      dtype='object')"
      ]
     },
     "execution_count": 31,
     "metadata": {},
     "output_type": "execute_result"
    }
   ],
   "source": [
    "df_scale.columns"
   ]
  },
  {
   "cell_type": "code",
   "execution_count": 32,
   "id": "b8b5a155",
   "metadata": {},
   "outputs": [
    {
     "data": {
      "text/plain": [
       "State_Name       0\n",
       "District_Name    0\n",
       "Crop_Year        0\n",
       "Season           0\n",
       "Crop             0\n",
       "Area             0\n",
       "Production       0\n",
       "dtype: int64"
      ]
     },
     "execution_count": 32,
     "metadata": {},
     "output_type": "execute_result"
    }
   ],
   "source": [
    "df_scale.isnull().sum()"
   ]
  },
  {
   "cell_type": "markdown",
   "id": "6d6aa98b",
   "metadata": {},
   "source": [
    "# Base Model Building "
   ]
  },
  {
   "cell_type": "code",
   "execution_count": 33,
   "id": "a4f2e422",
   "metadata": {},
   "outputs": [],
   "source": [
    "from sklearn.model_selection import train_test_split, GridSearchCV\n",
    "\n",
    "import statsmodels.api as sm\n",
    "from sklearn.linear_model import LinearRegression\n",
    "from sklearn.ensemble import RandomForestRegressor\n",
    "from sklearn.metrics import mean_squared_error, r2_score"
   ]
  },
  {
   "cell_type": "code",
   "execution_count": 34,
   "id": "a5b03429",
   "metadata": {},
   "outputs": [],
   "source": [
    "# To validate we need to split the dataset in train and test, considering only significant columns w.r.to target column\n",
    "\n",
    "x = df_scale[['State_Name', 'District_Name', 'Crop_Year', 'Season', 'Crop', 'Area']]\n",
    "y = df_scale['Production']"
   ]
  },
  {
   "cell_type": "code",
   "execution_count": 35,
   "id": "cbfce913",
   "metadata": {},
   "outputs": [],
   "source": [
    "xtrain,xtest,ytrain,ytest=train_test_split(x,y,train_size=0.8, random_state=1)"
   ]
  },
  {
   "cell_type": "code",
   "execution_count": 36,
   "id": "e720424e",
   "metadata": {},
   "outputs": [
    {
     "name": "stdout",
     "output_type": "stream",
     "text": [
      "Mean Squared Error: 0.3073597744002062\n",
      "R2 Score: 0.6916601893555274\n",
      "                            OLS Regression Results                            \n",
      "==============================================================================\n",
      "Dep. Variable:             Production   R-squared:                       0.689\n",
      "Model:                            OLS   Adj. R-squared:                  0.689\n",
      "Method:                 Least Squares   F-statistic:                 7.157e+04\n",
      "Date:                Sun, 15 Sep 2024   Prob (F-statistic):               0.00\n",
      "Time:                        19:52:28   Log-Likelihood:            -1.6198e+05\n",
      "No. Observations:              193888   AIC:                         3.240e+05\n",
      "Df Residuals:                  193881   BIC:                         3.240e+05\n",
      "Df Model:                           6                                         \n",
      "Covariance Type:            nonrobust                                         \n",
      "=================================================================================\n",
      "                    coef    std err          t      P>|t|      [0.025      0.975]\n",
      "---------------------------------------------------------------------------------\n",
      "const          6.381e-05      0.001      0.050      0.960      -0.002       0.003\n",
      "State_Name       -0.0034      0.001     -2.657      0.008      -0.006      -0.001\n",
      "District_Name    -0.0014      0.001     -1.143      0.253      -0.004       0.001\n",
      "Crop_Year         0.0277      0.001     21.792      0.000       0.025       0.030\n",
      "Season            0.1409      0.001    109.929      0.000       0.138       0.143\n",
      "Crop              0.0164      0.001     12.934      0.000       0.014       0.019\n",
      "Area              0.8377      0.001    651.610      0.000       0.835       0.840\n",
      "==============================================================================\n",
      "Omnibus:                    49748.631   Durbin-Watson:                   2.000\n",
      "Prob(Omnibus):                  0.000   Jarque-Bera (JB):           260755.421\n",
      "Skew:                           1.142   Prob(JB):                         0.00\n",
      "Kurtosis:                       8.202   Cond. No.                         1.20\n",
      "==============================================================================\n",
      "\n",
      "Notes:\n",
      "[1] Standard Errors assume that the covariance matrix of the errors is correctly specified.\n"
     ]
    }
   ],
   "source": [
    "# Base Model: Linear Regression\n",
    "\n",
    "xtrain = sm.add_constant(xtrain)\n",
    "xtest = sm.add_constant(xtest)\n",
    "\n",
    "# Create and fit the OLS model\n",
    "model = sm.OLS(ytrain, xtrain)\n",
    "results = model.fit()\n",
    "\n",
    "# Predict on test set\n",
    "y_pred = results.predict(xtest)\n",
    "\n",
    "# Evaluate the model\n",
    "print(\"Mean Squared Error:\", mean_squared_error(ytest, y_pred))\n",
    "print(\"R2 Score:\", r2_score(ytest,y_pred))\n",
    "\n",
    "# Optional: print the summary of the OLS regression\n",
    "print(results.summary())\n"
   ]
  },
  {
   "cell_type": "markdown",
   "id": "1cdf3efd",
   "metadata": {},
   "source": [
    "# Building models using regularization techniques\n"
   ]
  },
  {
   "cell_type": "code",
   "execution_count": 37,
   "id": "3b38818e",
   "metadata": {},
   "outputs": [
    {
     "name": "stdout",
     "output_type": "stream",
     "text": [
      "Ridge MSE: 0.30735977415891796\n",
      "Lasso MSE: 0.31369352985128973\n"
     ]
    }
   ],
   "source": [
    "from sklearn.linear_model import Ridge, Lasso\n",
    "\n",
    "# Ridge regression\n",
    "rd = Ridge(alpha=0.5)\n",
    "rd.fit(xtrain, ytrain)\n",
    "y_pred_ridge = rd.predict(xtest)\n",
    "print(\"Ridge MSE:\", mean_squared_error(ytest, y_pred_ridge))\n",
    "\n",
    "# Lasso regression\n",
    "Ls = Lasso(alpha=0.05)\n",
    "Ls.fit(xtrain, ytrain)\n",
    "y_pred_lasso = Ls.predict(xtest)\n",
    "print(\"Lasso MSE:\", mean_squared_error(ytest, y_pred_lasso))"
   ]
  },
  {
   "cell_type": "markdown",
   "id": "d007b6b4",
   "metadata": {},
   "source": [
    "### Building random forest model with all features to find out the feature importance"
   ]
  },
  {
   "cell_type": "code",
   "execution_count": 38,
   "id": "21707c6d",
   "metadata": {},
   "outputs": [
    {
     "name": "stdout",
     "output_type": "stream",
     "text": [
      "Mean Squared Error: 0.3073597744002062\n",
      "R2 Score: 0.6916601893555274\n"
     ]
    }
   ],
   "source": [
    "from sklearn.ensemble import RandomForestRegressor\n",
    "\n",
    "forest = RandomForestRegressor(n_estimators = 100, max_depth = 10)\n",
    "forest.fit(xtrain,ytrain)\n",
    "\n",
    "y_pred = results.predict(xtest)\n",
    "\n",
    "print(\"Mean Squared Error:\", mean_squared_error(ytest, y_pred))\n",
    "print(\"R2 Score:\", r2_score(ytest,y_pred))"
   ]
  },
  {
   "cell_type": "code",
   "execution_count": 39,
   "id": "dc32a59a",
   "metadata": {},
   "outputs": [
    {
     "data": {
      "text/plain": [
       "<Figure size 2000x1500 with 0 Axes>"
      ]
     },
     "execution_count": 39,
     "metadata": {},
     "output_type": "execute_result"
    },
    {
     "data": {
      "image/png": "[encoded data removed]",
      "text/plain": [
       "<Figure size 640x480 with 1 Axes>"
      ]
     },
     "metadata": {},
     "output_type": "display_data"
    },
    {
     "data": {
      "text/plain": [
       "<Figure size 2000x1500 with 0 Axes>"
      ]
     },
     "metadata": {},
     "output_type": "display_data"
    }
   ],
   "source": [
    "Importance = pd.DataFrame({'Importance':forest.feature_importances_*100}, index=xtrain.columns)\n",
    "Importance.sort_values('Importance', axis=0, ascending=True).plot(kind='barh', color='r', )\n",
    "plt.xlabel('Feature Importance')\n",
    "plt.title('Crop Production Feature Importance')\n",
    "plt.gca().legend_ = None\n",
    "plt.figure(figsize=(20,15))"
   ]
  },
  {
   "cell_type": "markdown",
   "id": "1eeb584c",
   "metadata": {},
   "source": [
    "# Businees Insights\n",
    "\n",
    "#### 1) Area: \n",
    "* The most significant factor in crop production. This suggests that the size of the land used for farming has the greatest impact on crop yields. Businesses should focus on optimizing land use to maximize production.\n",
    "#### 2) Crop: \n",
    "* The type of crop grown is the second most important factor. This indicates that different crops have varying levels of productivity. Selecting the right crop for the right conditions can enhance yields.\n",
    "#### 3) Season: \n",
    "* The season in which crops are grown also plays a crucial role. Understanding seasonal patterns and planting crops at the optimal time can improve production efficiency.\n",
    "#### 4) State_Name and District_Name: \n",
    "* These factors highlight the importance of geographical location. Different states and districts may have varying soil quality, climate conditions, and other factors that affect crop production. Tailoring agricultural practices to specific regions can lead to better outcomes.\n",
    "#### 5) Crop_Year: \n",
    "* The year of cultivation has some importance, possibly due to changes in weather patterns, technological advancements, or other temporal factors."
   ]
  },
  {
   "cell_type": "code",
   "execution_count": 40,
   "id": "f6f6f130",
   "metadata": {},
   "outputs": [
    {
     "name": "stdout",
     "output_type": "stream",
     "text": [
      "PDF is Saved Successfully\n"
     ]
    }
   ],
   "source": [
    "from reportlab.pdfgen import canvas\n",
    "\n",
    "def convert_to_pdf_reportlab(input_file, output_pdf):\n",
    "    pdf_canvas = canvas.Canvas(output_pdf)\n",
    "    \n",
    "    with open(input_file, 'r', encoding='utf-8') as python_file:\n",
    "        content = python_file.read()\n",
    "        # To handle the content correctly, we need to split it into lines and draw each line separately.\n",
    "        lines = content.split('\\n')\n",
    "        y = 800\n",
    "        for line in lines:\n",
    "            pdf_canvas.drawString(100, y, line)\n",
    "            y -= 12  # Move the cursor down for the next line (12 is an arbitrary line height)\n",
    "    \n",
    "    pdf_canvas.save()\n",
    "\n",
    "# Example usage:\n",
    "convert_to_pdf_reportlab('Crop_Production_Analysis.ipynb', 'Crop_Production_Analysis.pdf')\n",
    "print(\"PDF is Saved Successfully\")"
   ]
  },
  {
   "cell_type": "code",
   "execution_count": null,
   "id": "5f42deaf",
   "metadata": {},
   "outputs": [],
   "source": []
  }
 ],
 "metadata": {
  "kernelspec": {
   "display_name": "Python 3 (ipykernel)",
   "language": "python",
   "name": "python3"
  },
  "language_info": {
   "codemirror_mode": {
    "name": "ipython",
    "version": 3
   },
   "file_extension": ".py",
   "mimetype": "text/x-python",
   "name": "python",
   "nbconvert_exporter": "python",
   "pygments_lexer": "ipython3",
   "version": "3.11.4"
  }
 },
 "nbformat": 4,
 "nbformat_minor": 5
}
